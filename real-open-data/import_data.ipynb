{
 "cells": [
  {
   "cell_type": "code",
   "execution_count": 4,
   "metadata": {},
   "outputs": [
    {
     "name": "stdout",
     "output_type": "stream",
     "text": [
      "The autoreload extension is already loaded. To reload it, use:\n",
      "  %reload_ext autoreload\n"
     ]
    }
   ],
   "source": [
    "# Autoreload for modules and set directory for modles. \n",
    "# Read more: https://medium.com/@pablosjv/importing-local-python-modules-into-jupyter-notebooks-87336b2d7746\n",
    "%load_ext autoreload\n",
    "%autoreload 2\n",
    "import os\n",
    "import sys\n",
    "module_path = os.path.abspath(os.path.join('./real-open-data')) # or the path to your source code\n",
    "sys.path.insert(0, module_path)\n",
    "\n",
    "import pandas as pd\n",
    "from pathlib import Path\n",
    "from constants import DATA_SETS_META_FILE_PATH\n",
    "from data_sets_pipeline import etl_data_sets_meta"
   ]
  },
  {
   "cell_type": "markdown",
   "metadata": {},
   "source": [
    "Retrieve data sets meta data."
   ]
  },
  {
   "cell_type": "code",
   "execution_count": 5,
   "metadata": {},
   "outputs": [
    {
     "data": {
      "text/html": [
       "<div>\n",
       "<style scoped>\n",
       "    .dataframe tbody tr th:only-of-type {\n",
       "        vertical-align: middle;\n",
       "    }\n",
       "\n",
       "    .dataframe tbody tr th {\n",
       "        vertical-align: top;\n",
       "    }\n",
       "\n",
       "    .dataframe thead th {\n",
       "        text-align: right;\n",
       "    }\n",
       "</style>\n",
       "<table border=\"1\" class=\"dataframe\">\n",
       "  <thead>\n",
       "    <tr style=\"text-align: right;\">\n",
       "      <th></th>\n",
       "      <th>Dataset Name</th>\n",
       "      <th>Begin Datetime</th>\n",
       "      <th>End Datetime</th>\n",
       "      <th>Notes</th>\n",
       "      <th>Attribute Description</th>\n",
       "      <th>Resource ID</th>\n",
       "      <th>Resource URL</th>\n",
       "      <th>Resource Format</th>\n",
       "    </tr>\n",
       "  </thead>\n",
       "  <tbody>\n",
       "    <tr>\n",
       "      <th>0</th>\n",
       "      <td>stadt-wien_citybikestandortewien</td>\n",
       "      <td>2011-05-09T00:00:00</td>\n",
       "      <td>2023-12-01T00:00:00.000</td>\n",
       "      <td>Citybike, Standorte, Wien wurden mit Ende 2023...</td>\n",
       "      <td>NaN</td>\n",
       "      <td>6a75cd40-4e52-4214-897c-8859ce426eb2</td>\n",
       "      <td>https://data.wien.gv.at/daten/geo?service=WFS&amp;...</td>\n",
       "      <td>CSV</td>\n",
       "    </tr>\n",
       "    <tr>\n",
       "      <th>1</th>\n",
       "      <td>stadt-wien_weihnachtsmrkteundsilvesterstndewien</td>\n",
       "      <td>2013-12-13T00:00:00</td>\n",
       "      <td>NaN</td>\n",
       "      <td>Inhalte der Veranstaltungsdatenbank auf wien.at</td>\n",
       "      <td>BEZEICHNUNG:  Name des Marktes    \\nADRESSE: A...</td>\n",
       "      <td>7b61eac3-8db3-4e70-aa97-3088ffe46035</td>\n",
       "      <td>https://data.wien.gv.at/daten/geo?service=WFS&amp;...</td>\n",
       "      <td>CSV</td>\n",
       "    </tr>\n",
       "    <tr>\n",
       "      <th>2</th>\n",
       "      <td>stadt-wien_stadtspaziergangwien</td>\n",
       "      <td>2008-01-01T00:00:00</td>\n",
       "      <td>NaN</td>\n",
       "      <td>Themenrundgänge durch Wien</td>\n",
       "      <td>KATEGORIE: Name des Spaziergangs (Thema)  \\nNA...</td>\n",
       "      <td>d371b4cc-477a-4f0a-b740-1006ca29c981</td>\n",
       "      <td>https://data.wien.gv.at/daten/geo?service=WFS&amp;...</td>\n",
       "      <td>CSV</td>\n",
       "    </tr>\n",
       "    <tr>\n",
       "      <th>3</th>\n",
       "      <td>stadt-wien_stadtspaziergangwien</td>\n",
       "      <td>2008-01-01T00:00:00</td>\n",
       "      <td>NaN</td>\n",
       "      <td>Themenrundgänge durch Wien</td>\n",
       "      <td>KATEGORIE: Name des Spaziergangs (Thema)  \\nNA...</td>\n",
       "      <td>55490ee7-78e9-489c-b58d-b5af5b65c01f</td>\n",
       "      <td>https://data.wien.gv.at/daten/geo?service=WFS&amp;...</td>\n",
       "      <td>CSV</td>\n",
       "    </tr>\n",
       "    <tr>\n",
       "      <th>4</th>\n",
       "      <td>stadt-wien_silversterpfadwien</td>\n",
       "      <td>2013-12-31T00:00:00</td>\n",
       "      <td>NaN</td>\n",
       "      <td>Linien- und Punktbestand des Silvesterpfades i...</td>\n",
       "      <td>OBJECTID: ID    \\nBEZEICHNUNG: Standort-Detail...</td>\n",
       "      <td>0f015573-ec9a-424e-83f3-bc6601e1ebae</td>\n",
       "      <td>https://data.wien.gv.at/daten/geo?service=WFS&amp;...</td>\n",
       "      <td>CSV</td>\n",
       "    </tr>\n",
       "  </tbody>\n",
       "</table>\n",
       "</div>"
      ],
      "text/plain": [
       "                                      Dataset Name       Begin Datetime  \\\n",
       "0                 stadt-wien_citybikestandortewien  2011-05-09T00:00:00   \n",
       "1  stadt-wien_weihnachtsmrkteundsilvesterstndewien  2013-12-13T00:00:00   \n",
       "2                  stadt-wien_stadtspaziergangwien  2008-01-01T00:00:00   \n",
       "3                  stadt-wien_stadtspaziergangwien  2008-01-01T00:00:00   \n",
       "4                    stadt-wien_silversterpfadwien  2013-12-31T00:00:00   \n",
       "\n",
       "              End Datetime                                              Notes  \\\n",
       "0  2023-12-01T00:00:00.000  Citybike, Standorte, Wien wurden mit Ende 2023...   \n",
       "1                      NaN    Inhalte der Veranstaltungsdatenbank auf wien.at   \n",
       "2                      NaN                         Themenrundgänge durch Wien   \n",
       "3                      NaN                         Themenrundgänge durch Wien   \n",
       "4                      NaN  Linien- und Punktbestand des Silvesterpfades i...   \n",
       "\n",
       "                               Attribute Description  \\\n",
       "0                                                NaN   \n",
       "1  BEZEICHNUNG:  Name des Marktes    \\nADRESSE: A...   \n",
       "2  KATEGORIE: Name des Spaziergangs (Thema)  \\nNA...   \n",
       "3  KATEGORIE: Name des Spaziergangs (Thema)  \\nNA...   \n",
       "4  OBJECTID: ID    \\nBEZEICHNUNG: Standort-Detail...   \n",
       "\n",
       "                            Resource ID  \\\n",
       "0  6a75cd40-4e52-4214-897c-8859ce426eb2   \n",
       "1  7b61eac3-8db3-4e70-aa97-3088ffe46035   \n",
       "2  d371b4cc-477a-4f0a-b740-1006ca29c981   \n",
       "3  55490ee7-78e9-489c-b58d-b5af5b65c01f   \n",
       "4  0f015573-ec9a-424e-83f3-bc6601e1ebae   \n",
       "\n",
       "                                        Resource URL Resource Format  \n",
       "0  https://data.wien.gv.at/daten/geo?service=WFS&...             CSV  \n",
       "1  https://data.wien.gv.at/daten/geo?service=WFS&...             CSV  \n",
       "2  https://data.wien.gv.at/daten/geo?service=WFS&...             CSV  \n",
       "3  https://data.wien.gv.at/daten/geo?service=WFS&...             CSV  \n",
       "4  https://data.wien.gv.at/daten/geo?service=WFS&...             CSV  "
      ]
     },
     "metadata": {},
     "output_type": "display_data"
    }
   ],
   "source": [
    "\n",
    "if Path(DATA_SETS_META_FILE_PATH).is_file():\n",
    "    data_sets_meta_df = pd.read_csv(DATA_SETS_META_FILE_PATH)\n",
    "else:\n",
    "    etl_data_sets_meta()\n",
    "    data_sets_meta_df = pd.read_csv(DATA_SETS_META_FILE_PATH)\n",
    "\n",
    "display(data_sets_meta_df.head())\n"
   ]
  },
  {
   "cell_type": "markdown",
   "metadata": {},
   "source": []
  },
  {
   "cell_type": "code",
   "execution_count": null,
   "metadata": {},
   "outputs": [],
   "source": []
  }
 ],
 "metadata": {
  "kernelspec": {
   "display_name": "Python 3",
   "language": "python",
   "name": "python3"
  },
  "language_info": {
   "codemirror_mode": {
    "name": "ipython",
    "version": 3
   },
   "file_extension": ".py",
   "mimetype": "text/x-python",
   "name": "python",
   "nbconvert_exporter": "python",
   "pygments_lexer": "ipython3",
   "version": "3.11.7"
  }
 },
 "nbformat": 4,
 "nbformat_minor": 2
}
